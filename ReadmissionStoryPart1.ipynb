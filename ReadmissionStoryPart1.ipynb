{
 "cells": [
  {
   "cell_type": "markdown",
   "metadata": {},
   "source": [
    "# Import Readmission raw data file and prepare analysis dataset"
   ]
  },
  {
   "cell_type": "code",
   "execution_count": 14,
   "metadata": {
    "collapsed": true
   },
   "outputs": [],
   "source": [
    "import swat as swat\n",
    "import pandas as pd\n",
    "import numpy as np\n",
    "import matplotlib.pyplot as plt\n",
    "import getpass as gp\n",
    "%matplotlib inline\n",
    "plt.rcParams['figure.figsize'] = 6, 6"
   ]
  },
  {
   "cell_type": "code",
   "execution_count": 15,
   "metadata": {
    "collapsed": false
   },
   "outputs": [],
   "source": [
    "s = swat.CAS('localhost', 5570, authinfo='/home/sasdemo/.authinfo')"
   ]
  },
  {
   "cell_type": "markdown",
   "metadata": {},
   "source": [
    "### Load the raw data into CAS"
   ]
  },
  {
   "cell_type": "code",
   "execution_count": 16,
   "metadata": {
    "collapsed": false,
    "scrolled": true
   },
   "outputs": [
    {
     "name": "stdout",
     "output_type": "stream",
     "text": [
      "NOTE: Added action set 'table'.\n",
      "NOTE: Cloud Analytic Services made the uploaded file available as table READMISSION_RAW in caslib CASUSER(sasdemo).\n",
      "NOTE: The table READMISSION_RAW has been created in caslib CASUSER(sasdemo) from binary data uploaded to Cloud Analytic Services.\n"
     ]
    }
   ],
   "source": [
    "s.loadactionset(actionset=\"table\")\n",
    "if not s.table.tableExists(table=\"readmission_raw\").exists:\n",
    "    tbl = s.upload_file(\"/home/sasdemo/hls_hospital_readmission_model.csv\", casout={\"name\":\"readmission_raw\"})"
   ]
  },
  {
   "cell_type": "markdown",
   "metadata": {},
   "source": [
    "### Drop the partitioned and analysis datasets"
   ]
  },
  {
   "cell_type": "code",
   "execution_count": 46,
   "metadata": {
    "collapsed": false
   },
   "outputs": [
    {
     "name": "stdout",
     "output_type": "stream",
     "text": [
      "Dropping table readmission_partitioned\n",
      "NOTE: Cloud Analytic Services dropped table readmission_partitioned from caslib Public.\n"
     ]
    }
   ],
   "source": [
    "if s.tableExists(caslib='public',table='readmission_partitioned').exists:\n",
    "    print(\"Dropping table readmission_partitioned\")\n",
    "    s.table.droptable(caslib='public',table='readmission_partitioned')\n",
    "if s.tableExists(caslib='public',table='readmission_analysis').exists:\n",
    "    print(\"Dropping table readmission_analysis\")\n",
    "    s.table.droptable(caslib='public',table='readmission_analysis')"
   ]
  },
  {
   "cell_type": "markdown",
   "metadata": {},
   "source": [
    "### Create sample, partition variable for cross validation"
   ]
  },
  {
   "cell_type": "code",
   "execution_count": 47,
   "metadata": {
    "collapsed": false
   },
   "outputs": [
    {
     "name": "stdout",
     "output_type": "stream",
     "text": [
      "NOTE: Added action set 'sampling'.\n",
      "NOTE: Using SEED=1234 for sampling.\n"
     ]
    },
    {
     "data": {
      "text/html": [
       "<div class=\"cas-results-key\"><b>&#167; outputSize</b></div>\n",
       "<div class=\"cas-results-body\">\n",
       "<div>{'outputNObs': 161067.0, 'outputNVars': 53}</div>\n",
       "</div>\n",
       "<div class=\"cas-results-key\"><hr/><b>&#167; STRAFreq</b></div>\n",
       "<div class=\"cas-results-body\">\n",
       "<div>\n",
       "<table border=\"1\" class=\"dataframe\"><caption>Frequencies</caption>\n",
       "  <thead>\n",
       "    <tr style=\"text-align: right;\">\n",
       "      <th title=\"\"></th>\n",
       "      <th title=\"Index\">ByGrpID</th>\n",
       "      <th title=\"Number of Obs\">NObs</th>\n",
       "      <th title=\"Number of Samples\">NSamp</th>\n",
       "    </tr>\n",
       "  </thead>\n",
       "  <tbody>\n",
       "    <tr>\n",
       "      <th>0</th>\n",
       "      <td>0</td>\n",
       "      <td>161067</td>\n",
       "      <td>16107</td>\n",
       "    </tr>\n",
       "  </tbody>\n",
       "</table>\n",
       "</div>\n",
       "</div>\n",
       "<div class=\"cas-results-key\"><hr/><b>&#167; OutputCasTables</b></div>\n",
       "<div class=\"cas-results-body\">\n",
       "<div>\n",
       "<table border=\"1\" class=\"dataframe\">\n",
       "  <thead>\n",
       "    <tr style=\"text-align: right;\">\n",
       "      <th title=\"\"></th>\n",
       "      <th title=\"CAS Library\">casLib</th>\n",
       "      <th title=\"Name\">Name</th>\n",
       "      <th title=\"Label\">Label</th>\n",
       "      <th title=\"Number of Rows\">Rows</th>\n",
       "      <th title=\"Number of Columns\">Columns</th>\n",
       "      <th title=\"Table\">casTable</th>\n",
       "    </tr>\n",
       "  </thead>\n",
       "  <tbody>\n",
       "    <tr>\n",
       "      <th>0</th>\n",
       "      <td>Public</td>\n",
       "      <td>readmission_partitioned</td>\n",
       "      <td></td>\n",
       "      <td>161067</td>\n",
       "      <td>53</td>\n",
       "      <td>CASTable('readmission_partitioned', caslib='Pu...</td>\n",
       "    </tr>\n",
       "  </tbody>\n",
       "</table>\n",
       "</div>\n",
       "</div>\n",
       "<div class=\"cas-output-area\"></div>\n",
       "<p class=\"cas-results-performance\"><small><span class=\"cas-elapsed\">elapsed 0.222s</span> &#183; <span class=\"cas-user\">user 0.639s</span> &#183; <span class=\"cas-sys\">sys 0.244s</span> &#183; <span class=\"cas-memory\">mem 60.9MB</span></small></p>"
      ],
      "text/plain": [
       "[outputSize]\n",
       "\n",
       " {'outputNObs': 161067.0, 'outputNVars': 53}\n",
       "\n",
       "[STRAFreq]\n",
       "\n",
       " Frequencies\n",
       " \n",
       "    ByGrpID    NObs  NSamp\n",
       " 0        0  161067  16107\n",
       "\n",
       "[OutputCasTables]\n",
       "\n",
       "    casLib                     Name Label    Rows  Columns  \\\n",
       " 0  Public  readmission_partitioned        161067       53   \n",
       " \n",
       "                                             casTable  \n",
       " 0  CASTable('readmission_partitioned', caslib='Pu...  \n",
       "\n",
       "+ Elapsed: 0.222s, user: 0.639s, sys: 0.244s, mem: 60.9mb"
      ]
     },
     "execution_count": 47,
     "metadata": {},
     "output_type": "execute_result"
    }
   ],
   "source": [
    "s.loadactionset(actionset=\"sampling\")\n",
    "\n",
    "tbl.sampling.stratified(\n",
    "   partInd=True,                                     \n",
    "   samppct=10,                                       \n",
    "   seed=1234,\n",
    "   output={\n",
    "      \"casout\":{\"name\":\"readmission_partitioned\", \n",
    "                \"caslib\":\"public\",\n",
    "                \"promote\":True},\n",
    "      \"copyVars\":\"all\"\n",
    "   }\n",
    ")"
   ]
  },
  {
   "cell_type": "markdown",
   "metadata": {},
   "source": [
    "### Prepare columns for diminsion reduction and imputation"
   ]
  },
  {
   "cell_type": "code",
   "execution_count": 48,
   "metadata": {
    "collapsed": false
   },
   "outputs": [],
   "source": [
    "sci = s.columninfo(table={\"name\":\"readmission_partitioned\",'caslib':\"public\"}).ColumnInfo.iloc[:,[0,3]]"
   ]
  },
  {
   "cell_type": "code",
   "execution_count": 49,
   "metadata": {
    "collapsed": false
   },
   "outputs": [
    {
     "data": {
      "text/plain": [
       "[None,\n",
       " None,\n",
       " None,\n",
       " None,\n",
       " None,\n",
       " None,\n",
       " None,\n",
       " None,\n",
       " None,\n",
       " None,\n",
       " None,\n",
       " None,\n",
       " None,\n",
       " None,\n",
       " None,\n",
       " None,\n",
       " None,\n",
       " None,\n",
       " None]"
      ]
     },
     "execution_count": 49,
     "metadata": {},
     "output_type": "execute_result"
    }
   ],
   "source": [
    "var_double = sci[sci['Type'] == 'double'].iloc[:,0].tolist()\n",
    "var_char = sci[sci['Type'] == 'varchar'].iloc[:,0].tolist()\n",
    "drops = var_double + var_char\n",
    "\n",
    "removevar = [\"readmit_number\",'ENCOUNTER_KEY','PATIENT_NUMBER','DOCTOR','MS_DRG_CODE',\n",
    "                  'DRG_APR_CODE','DRG_APR_SEVERITY','DIAGNOSIS_SUBCAT_CODE','DIAGNOSIS_ICD_CODE',\n",
    "                  'PROCEDURE_SUBCAT_CODE','PROCEDURE_ICD_CODE','_PartInd_','Disch_Nurse_ID','ZIP']\n",
    "[var_double.remove(x) for x in removevar]\n",
    "\n",
    "removevar=['ADMIT_DATE','DISCHARGE_DATE','readmit_date','readmit_discharge_date','readmit_days',\n",
    "           'Diagnosis_Group','MS_DRG_DESC','DRG_APR_DESC','DIAGNOSIS_SUBCAT_DESC','DIAGNOSIS_LONG_DESC',\n",
    "           'PROCEDURE_SUBCAT_DESC','PROCEDURE_LONG_DESC','DEPARTMENT','STATECODE','CITY','County_name',\n",
    "           'DESYNPUF_ID','HOSPITAL','REGION']\n",
    "[var_char.remove(x) for x in removevar]"
   ]
  },
  {
   "cell_type": "markdown",
   "metadata": {},
   "source": [
    "### Perform dimension reduction"
   ]
  },
  {
   "cell_type": "code",
   "execution_count": 50,
   "metadata": {
    "collapsed": false
   },
   "outputs": [
    {
     "name": "stdout",
     "output_type": "stream",
     "text": [
      "NOTE: Added action set 'varReduce'.\n"
     ]
    }
   ],
   "source": [
    "s.loadactionset(actionset=\"varReduce\")\n",
    "results = s.varReduce.super(\n",
    "    table={'caslib':'public','name':'readmission_partitioned'},      \n",
    "    maxeffects=15,\n",
    "    varexp=0.99,\n",
    "    analysis='VAR',\n",
    "    tech='CORR',\n",
    "    maxsteps=15,\n",
    "    BIC=True,\n",
    "    classVars=[{\"vars\":var_char}],\n",
    "    model={\n",
    "        \"depVars\":[{\"name\":'readmit_number'}],\n",
    "        \"effects\":[{\"vars\":var_double + var_char}]}\n",
    ")"
   ]
  },
  {
   "cell_type": "code",
   "execution_count": 51,
   "metadata": {
    "collapsed": false
   },
   "outputs": [
    {
     "name": "stdout",
     "output_type": "stream",
     "text": [
      "Selected Variables\n",
      "\n",
      "   Number             Variable      Type\n",
      "0       1  order_total_charges  INTERVAL\n",
      "1       2             dx_group     CLASS\n",
      "2       3              race_cd     CLASS\n",
      "3       4          admit_month  INTERVAL\n",
      "4       5       order_set_used  INTERVAL\n",
      "5       6        DISCHARGED_TO     CLASS\n",
      "6       7       operationcount  INTERVAL\n",
      "7       8           op_visits6  INTERVAL\n",
      "8       9           PatientAge  INTERVAL\n"
     ]
    }
   ],
   "source": [
    "print(results.SelectedEffects)"
   ]
  },
  {
   "cell_type": "code",
   "execution_count": 52,
   "metadata": {
    "collapsed": true
   },
   "outputs": [],
   "source": [
    "keeps = results.SelectedEffects.iloc[:,1].tolist() + ['ADMIT_DATE','DISCHARGE_DATE',\"readmit_number\",'ENCOUNTER_KEY','PATIENT_NUMBER','_PartInd_']"
   ]
  },
  {
   "cell_type": "code",
   "execution_count": 53,
   "metadata": {
    "collapsed": false
   },
   "outputs": [
    {
     "data": {
      "text/html": [
       "<div class=\"cas-results-key\"><b>&#167; ColumnInfo</b></div>\n",
       "<div class=\"cas-results-body\">\n",
       "<div>\n",
       "<table border=\"1\" class=\"dataframe\">\n",
       "  <thead>\n",
       "    <tr style=\"text-align: right;\">\n",
       "      <th title=\"\"></th>\n",
       "      <th title=\"Column\">Column</th>\n",
       "      <th title=\"Label\">Label</th>\n",
       "      <th title=\"ID\">ID</th>\n",
       "      <th title=\"Type\">Type</th>\n",
       "      <th title=\"RawLength\">RawLength</th>\n",
       "      <th title=\"FormattedLength\">FormattedLength</th>\n",
       "      <th title=\"NFL\">NFL</th>\n",
       "      <th title=\"NFD\">NFD</th>\n",
       "    </tr>\n",
       "  </thead>\n",
       "  <tbody>\n",
       "    <tr>\n",
       "      <th>0</th>\n",
       "      <td>ENCOUNTER_KEY</td>\n",
       "      <td></td>\n",
       "      <td>1</td>\n",
       "      <td>double</td>\n",
       "      <td>8</td>\n",
       "      <td>12</td>\n",
       "      <td>0</td>\n",
       "      <td>0</td>\n",
       "    </tr>\n",
       "    <tr>\n",
       "      <th>1</th>\n",
       "      <td>PATIENT_NUMBER</td>\n",
       "      <td></td>\n",
       "      <td>2</td>\n",
       "      <td>double</td>\n",
       "      <td>8</td>\n",
       "      <td>12</td>\n",
       "      <td>0</td>\n",
       "      <td>0</td>\n",
       "    </tr>\n",
       "    <tr>\n",
       "      <th>2</th>\n",
       "      <td>ADMIT_DATE</td>\n",
       "      <td></td>\n",
       "      <td>4</td>\n",
       "      <td>varchar</td>\n",
       "      <td>9</td>\n",
       "      <td>9</td>\n",
       "      <td>0</td>\n",
       "      <td>0</td>\n",
       "    </tr>\n",
       "    <tr>\n",
       "      <th>3</th>\n",
       "      <td>DISCHARGE_DATE</td>\n",
       "      <td></td>\n",
       "      <td>5</td>\n",
       "      <td>varchar</td>\n",
       "      <td>9</td>\n",
       "      <td>9</td>\n",
       "      <td>0</td>\n",
       "      <td>0</td>\n",
       "    </tr>\n",
       "    <tr>\n",
       "      <th>4</th>\n",
       "      <td>DISCHARGED_TO</td>\n",
       "      <td></td>\n",
       "      <td>30</td>\n",
       "      <td>varchar</td>\n",
       "      <td>24</td>\n",
       "      <td>24</td>\n",
       "      <td>0</td>\n",
       "      <td>0</td>\n",
       "    </tr>\n",
       "    <tr>\n",
       "      <th>5</th>\n",
       "      <td>admit_month</td>\n",
       "      <td></td>\n",
       "      <td>35</td>\n",
       "      <td>double</td>\n",
       "      <td>8</td>\n",
       "      <td>12</td>\n",
       "      <td>0</td>\n",
       "      <td>0</td>\n",
       "    </tr>\n",
       "    <tr>\n",
       "      <th>6</th>\n",
       "      <td>dx_group</td>\n",
       "      <td></td>\n",
       "      <td>38</td>\n",
       "      <td>varchar</td>\n",
       "      <td>69</td>\n",
       "      <td>69</td>\n",
       "      <td>0</td>\n",
       "      <td>0</td>\n",
       "    </tr>\n",
       "    <tr>\n",
       "      <th>7</th>\n",
       "      <td>order_set_used</td>\n",
       "      <td></td>\n",
       "      <td>39</td>\n",
       "      <td>double</td>\n",
       "      <td>8</td>\n",
       "      <td>12</td>\n",
       "      <td>0</td>\n",
       "      <td>0</td>\n",
       "    </tr>\n",
       "    <tr>\n",
       "      <th>8</th>\n",
       "      <td>order_total_charges</td>\n",
       "      <td></td>\n",
       "      <td>40</td>\n",
       "      <td>double</td>\n",
       "      <td>8</td>\n",
       "      <td>12</td>\n",
       "      <td>0</td>\n",
       "      <td>0</td>\n",
       "    </tr>\n",
       "    <tr>\n",
       "      <th>9</th>\n",
       "      <td>readmit_number</td>\n",
       "      <td></td>\n",
       "      <td>41</td>\n",
       "      <td>double</td>\n",
       "      <td>8</td>\n",
       "      <td>12</td>\n",
       "      <td>0</td>\n",
       "      <td>0</td>\n",
       "    </tr>\n",
       "    <tr>\n",
       "      <th>10</th>\n",
       "      <td>race_cd</td>\n",
       "      <td></td>\n",
       "      <td>45</td>\n",
       "      <td>varchar</td>\n",
       "      <td>6</td>\n",
       "      <td>6</td>\n",
       "      <td>0</td>\n",
       "      <td>0</td>\n",
       "    </tr>\n",
       "    <tr>\n",
       "      <th>11</th>\n",
       "      <td>operationcount</td>\n",
       "      <td></td>\n",
       "      <td>46</td>\n",
       "      <td>double</td>\n",
       "      <td>8</td>\n",
       "      <td>12</td>\n",
       "      <td>0</td>\n",
       "      <td>0</td>\n",
       "    </tr>\n",
       "    <tr>\n",
       "      <th>12</th>\n",
       "      <td>op_visits6</td>\n",
       "      <td></td>\n",
       "      <td>48</td>\n",
       "      <td>double</td>\n",
       "      <td>8</td>\n",
       "      <td>12</td>\n",
       "      <td>0</td>\n",
       "      <td>0</td>\n",
       "    </tr>\n",
       "    <tr>\n",
       "      <th>13</th>\n",
       "      <td>PatientAge</td>\n",
       "      <td></td>\n",
       "      <td>50</td>\n",
       "      <td>double</td>\n",
       "      <td>8</td>\n",
       "      <td>12</td>\n",
       "      <td>0</td>\n",
       "      <td>0</td>\n",
       "    </tr>\n",
       "    <tr>\n",
       "      <th>14</th>\n",
       "      <td>_PartInd_</td>\n",
       "      <td>Partition Indicator</td>\n",
       "      <td>53</td>\n",
       "      <td>double</td>\n",
       "      <td>8</td>\n",
       "      <td>12</td>\n",
       "      <td>0</td>\n",
       "      <td>0</td>\n",
       "    </tr>\n",
       "  </tbody>\n",
       "</table>\n",
       "</div>\n",
       "</div>\n",
       "<div class=\"cas-output-area\"></div>\n",
       "<p class=\"cas-results-performance\"><small><span class=\"cas-elapsed\">elapsed 0.00104s</span> &#183; <span class=\"cas-memory\">mem 1.05MB</span></small></p>"
      ],
      "text/plain": [
       "[ColumnInfo]\n",
       "\n",
       "                  Column                Label  ID     Type  RawLength  \\\n",
       " 0         ENCOUNTER_KEY                        1   double          8   \n",
       " 1        PATIENT_NUMBER                        2   double          8   \n",
       " 2            ADMIT_DATE                        4  varchar          9   \n",
       " 3        DISCHARGE_DATE                        5  varchar          9   \n",
       " 4         DISCHARGED_TO                       30  varchar         24   \n",
       " 5           admit_month                       35   double          8   \n",
       " 6              dx_group                       38  varchar         69   \n",
       " 7        order_set_used                       39   double          8   \n",
       " 8   order_total_charges                       40   double          8   \n",
       " 9        readmit_number                       41   double          8   \n",
       " 10              race_cd                       45  varchar          6   \n",
       " 11       operationcount                       46   double          8   \n",
       " 12           op_visits6                       48   double          8   \n",
       " 13           PatientAge                       50   double          8   \n",
       " 14            _PartInd_  Partition Indicator  53   double          8   \n",
       " \n",
       "     FormattedLength  NFL  NFD  \n",
       " 0                12    0    0  \n",
       " 1                12    0    0  \n",
       " 2                 9    0    0  \n",
       " 3                 9    0    0  \n",
       " 4                24    0    0  \n",
       " 5                12    0    0  \n",
       " 6                69    0    0  \n",
       " 7                12    0    0  \n",
       " 8                12    0    0  \n",
       " 9                12    0    0  \n",
       " 10                6    0    0  \n",
       " 11               12    0    0  \n",
       " 12               12    0    0  \n",
       " 13               12    0    0  \n",
       " 14               12    0    0  \n",
       "\n",
       "+ Elapsed: 0.00104s, mem: 1.05mb"
      ]
     },
     "execution_count": 53,
     "metadata": {},
     "output_type": "execute_result"
    }
   ],
   "source": [
    "def dropcol(col):\n",
    "    s.table.alterTable(caslib=\"public\",name=\"readmission_partitioned\",columns=[{\"drop\":True,\"name\":col}]) \n",
    "[drops.remove(x) for x in keeps]\n",
    "[dropcol(x) for x in drops]\n",
    "s.columninfo(table={'caslib':'public','name':'readmission_partitioned'})"
   ]
  },
  {
   "cell_type": "code",
   "execution_count": 54,
   "metadata": {
    "collapsed": false
   },
   "outputs": [
    {
     "name": "stdout",
     "output_type": "stream",
     "text": [
      "NOTE: Cloud Analytic Services saved the file readmission_analysis.sashdat in caslib Public.\n"
     ]
    },
    {
     "data": {
      "text/html": [
       "<div class=\"cas-results-key\"><b>&#167; caslib</b></div>\n",
       "<div class=\"cas-results-body\">\n",
       "<div>Public</div>\n",
       "</div>\n",
       "<div class=\"cas-results-key\"><hr/><b>&#167; name</b></div>\n",
       "<div class=\"cas-results-body\">\n",
       "<div>readmission_analysis.sashdat</div>\n",
       "</div>\n",
       "<div class=\"cas-output-area\"></div>\n",
       "<p class=\"cas-results-performance\"><small><span class=\"cas-elapsed\">elapsed 0.554s</span> &#183; <span class=\"cas-user\">user 0.158s</span> &#183; <span class=\"cas-sys\">sys 0.14s</span> &#183; <span class=\"cas-memory\">mem 58MB</span></small></p>"
      ],
      "text/plain": [
       "[caslib]\n",
       "\n",
       " 'Public'\n",
       "\n",
       "[name]\n",
       "\n",
       " 'readmission_analysis.sashdat'\n",
       "\n",
       "+ Elapsed: 0.554s, user: 0.158s, sys: 0.14s, mem: 58mb"
      ]
     },
     "execution_count": 54,
     "metadata": {},
     "output_type": "execute_result"
    }
   ],
   "source": [
    "s.table.save(caslib='public', \n",
    "             name='readmission_analysis', \n",
    "             replace=True,\n",
    "             permission='PUBLICREAD',\n",
    "             table={\"caslib\":\"public\",\"name\":'readmission_partitioned'}\n",
    "            )"
   ]
  },
  {
   "cell_type": "code",
   "execution_count": 60,
   "metadata": {
    "collapsed": false
   },
   "outputs": [
    {
     "name": "stdout",
     "output_type": "stream",
     "text": [
      "NOTE: Cloud Analytic Services made the file readmission_analysis.sashdat available as table READMISSION_ANALYSIS in caslib public.\n"
     ]
    },
    {
     "data": {
      "text/html": [
       "<div class=\"cas-results-key\"><b>&#167; caslib</b></div>\n",
       "<div class=\"cas-results-body\">\n",
       "<div>public</div>\n",
       "</div>\n",
       "<div class=\"cas-results-key\"><hr/><b>&#167; tableName</b></div>\n",
       "<div class=\"cas-results-body\">\n",
       "<div>READMISSION_ANALYSIS</div>\n",
       "</div>\n",
       "<div class=\"cas-results-key\"><hr/><b>&#167; casTable</b></div>\n",
       "<div class=\"cas-results-body\">\n",
       "<div>CASTable('READMISSION_ANALYSIS', caslib='public')</div>\n",
       "</div>\n",
       "<div class=\"cas-output-area\"></div>\n",
       "<p class=\"cas-results-performance\"><small><span class=\"cas-elapsed\">elapsed 0.00262s</span> &#183; <span class=\"cas-user\">user 0.001s</span> &#183; <span class=\"cas-sys\">sys 0.001s</span> &#183; <span class=\"cas-memory\">mem 0.67MB</span></small></p>"
      ],
      "text/plain": [
       "[caslib]\n",
       "\n",
       " 'public'\n",
       "\n",
       "[tableName]\n",
       "\n",
       " 'READMISSION_ANALYSIS'\n",
       "\n",
       "[casTable]\n",
       "\n",
       " CASTable('READMISSION_ANALYSIS', caslib='public')\n",
       "\n",
       "+ Elapsed: 0.00262s, user: 0.001s, sys: 0.001s, mem: 0.67mb"
      ]
     },
     "execution_count": 60,
     "metadata": {},
     "output_type": "execute_result"
    }
   ],
   "source": [
    "s.table.loadtable(caslib='public',path='readmission_analysis.sashdat', casout={'caslib':'public','name':'readmission_analysis','promote':True})"
   ]
  },
  {
   "cell_type": "code",
   "execution_count": 13,
   "metadata": {
    "collapsed": true
   },
   "outputs": [],
   "source": [
    "s.terminate()"
   ]
  }
 ],
 "metadata": {
  "kernelspec": {
   "display_name": "Python 3",
   "language": "python",
   "name": "python3"
  },
  "language_info": {
   "codemirror_mode": {
    "name": "ipython",
    "version": 3
   },
   "file_extension": ".py",
   "mimetype": "text/x-python",
   "name": "python",
   "nbconvert_exporter": "python",
   "pygments_lexer": "ipython3",
   "version": "3.6.0"
  }
 },
 "nbformat": 4,
 "nbformat_minor": 2
}
