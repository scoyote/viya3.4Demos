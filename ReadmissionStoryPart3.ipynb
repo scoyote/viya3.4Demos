{
 "cells": [
  {
   "cell_type": "code",
   "execution_count": 5,
   "metadata": {
    "collapsed": false
   },
   "outputs": [],
   "source": [
    "library(swat)"
   ]
  },
  {
   "cell_type": "code",
   "execution_count": 6,
   "metadata": {
    "collapsed": false
   },
   "outputs": [
    {
     "name": "stderr",
     "output_type": "stream",
     "text": [
      "NOTE: Connecting to CAS and generating CAS action functions for loaded\n",
      "      action sets...\n",
      "NOTE: To generate the functions with signatures (for tab completion), set \n",
      "      options(cas.gen.function.sig=TRUE).\n"
     ]
    }
   ],
   "source": [
    "s <- CAS('localhost', port=5570, caslib=\"casuer\")"
   ]
  },
  {
   "cell_type": "code",
   "execution_count": 3,
   "metadata": {
    "collapsed": false
   },
   "outputs": [
    {
     "data": {
      "text/html": [
       "<strong>$TableInfo</strong> = <table>\n",
       "<thead><tr><th scope=col>Name</th><th scope=col>Rows</th><th scope=col>Columns</th><th scope=col>IndexedColumns</th><th scope=col>Encoding</th><th scope=col>CreateTimeFormatted</th><th scope=col>ModTimeFormatted</th><th scope=col>AccessTimeFormatted</th><th scope=col>JavaCharSet</th><th scope=col>CreateTime</th><th scope=col>⋯</th><th scope=col>Global</th><th scope=col>Repeated</th><th scope=col>View</th><th scope=col>SourceName</th><th scope=col>SourceCaslib</th><th scope=col>Compressed</th><th scope=col>Creator</th><th scope=col>Modifier</th><th scope=col>SourceModTimeFormatted</th><th scope=col>SourceModTime</th></tr></thead>\n",
       "<tbody>\n",
       "\t<tr><td>READMISSION_PARTITIONED  </td><td>161067                   </td><td>53                       </td><td>0                        </td><td>utf-8                    </td><td>2018-09-07T09:11:08-04:00</td><td>2018-09-07T09:11:08-04:00</td><td>2018-09-07T09:11:08-04:00</td><td>UTF8                     </td><td>1851945068               </td><td>⋯                        </td><td>1                        </td><td>0                        </td><td>0                        </td><td>                         </td><td>                         </td><td>0                        </td><td>sasdemo                  </td><td>                         </td><td>                         </td><td>NaN                      </td></tr>\n",
       "</tbody>\n",
       "</table>\n"
      ],
      "text/latex": [
       "\\textbf{\\$TableInfo} = \\begin{tabular}{r|llllllllllllllllllllll}\n",
       " Name & Rows & Columns & IndexedColumns & Encoding & CreateTimeFormatted & ModTimeFormatted & AccessTimeFormatted & JavaCharSet & CreateTime & ⋯ & Global & Repeated & View & SourceName & SourceCaslib & Compressed & Creator & Modifier & SourceModTimeFormatted & SourceModTime\\\\\n",
       "\\hline\n",
       "\t READMISSION\\_PARTITIONED & 161067                    & 53                        & 0                         & utf-8                     & 2018-09-07T09:11:08-04:00 & 2018-09-07T09:11:08-04:00 & 2018-09-07T09:11:08-04:00 & UTF8                      & 1851945068                & ⋯                         & 1                         & 0                         & 0                         &                           &                           & 0                         & sasdemo                   &                           &                           & NaN                      \\\\\n",
       "\\end{tabular}\n"
      ],
      "text/markdown": [
       "**$TableInfo** = \n",
       "Name | Rows | Columns | IndexedColumns | Encoding | CreateTimeFormatted | ModTimeFormatted | AccessTimeFormatted | JavaCharSet | CreateTime | ⋯ | Global | Repeated | View | SourceName | SourceCaslib | Compressed | Creator | Modifier | SourceModTimeFormatted | SourceModTime | \n",
       "|---|\n",
       "| READMISSION_PARTITIONED   | 161067                    | 53                        | 0                         | utf-8                     | 2018-09-07T09:11:08-04:00 | 2018-09-07T09:11:08-04:00 | 2018-09-07T09:11:08-04:00 | UTF8                      | 1851945068                | ⋯                         | 1                         | 0                         | 0                         |                           |                           | 0                         | sasdemo                   |                           |                           | NaN                       | \n",
       "\n",
       "\n"
      ],
      "text/plain": [
       "$TableInfo\n",
       "                     Name   Rows Columns IndexedColumns Encoding\n",
       "1 READMISSION_PARTITIONED 161067      53              0    utf-8\n",
       "        CreateTimeFormatted          ModTimeFormatted       AccessTimeFormatted\n",
       "1 2018-09-07T09:11:08-04:00 2018-09-07T09:11:08-04:00 2018-09-07T09:11:08-04:00\n",
       "  JavaCharSet CreateTime    ModTime AccessTime Global Repeated View SourceName\n",
       "1        UTF8 1851945068 1851945068 1851945068      1        0    0           \n",
       "  SourceCaslib Compressed Creator Modifier SourceModTimeFormatted SourceModTime\n",
       "1                       0 sasdemo                                           NaN\n"
      ]
     },
     "metadata": {},
     "output_type": "display_data"
    }
   ],
   "source": [
    "cas.table.tableInfo(s, name='readmission_partitioned',caslib='public')"
   ]
  },
  {
   "cell_type": "code",
   "execution_count": null,
   "metadata": {
    "collapsed": true
   },
   "outputs": [],
   "source": []
  }
 ],
 "metadata": {
  "kernelspec": {
   "display_name": "R",
   "language": "R",
   "name": "ir"
  },
  "language_info": {
   "codemirror_mode": "r",
   "file_extension": ".r",
   "mimetype": "text/x-r-source",
   "name": "R",
   "pygments_lexer": "r",
   "version": "3.3.2"
  }
 },
 "nbformat": 4,
 "nbformat_minor": 2
}
